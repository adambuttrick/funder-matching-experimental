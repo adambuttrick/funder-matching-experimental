{
  "nbformat": 4,
  "nbformat_minor": 0,
  "metadata": {
    "colab": {
      "provenance": [],
      "machine_shape": "hm",
      "gpuType": "A100"
    },
    "kernelspec": {
      "name": "python3",
      "display_name": "Python 3"
    },
    "language_info": {
      "name": "python"
    },
    "accelerator": "GPU"
  },
  "cells": [
    {
      "cell_type": "code",
      "execution_count": null,
      "metadata": {
        "id": "oWn7ARvZ77Yi"
      },
      "outputs": [],
      "source": [
        "!pip install flair\n",
        "!pip install torch"
      ]
    },
    {
      "cell_type": "code",
      "source": [
        "from google.colab import drive\n",
        "drive.mount('/content/drive', force_remount=True)"
      ],
      "metadata": {
        "id": "2zK7gBe38M9D"
      },
      "execution_count": null,
      "outputs": []
    },
    {
      "cell_type": "code",
      "source": [
        "from flair.data import Corpus\n",
        "from flair.datasets import ColumnCorpus\n",
        "from flair.embeddings import TokenEmbeddings, WordEmbeddings, StackedEmbeddings, PooledFlairEmbeddings\n",
        "from flair.models import SequenceTagger\n",
        "from flair.trainers import ModelTrainer\n",
        "import torch\n",
        "\n",
        "columns = {0: 'text', 1: 'ner'}\n",
        "label_type = 'ner'\n",
        "corpus = ColumnCorpus('/content/drive/MyDrive/training_data/flair/', columns)\n",
        "label_dictionary = corpus.make_label_dictionary(label_type=label_type)\n",
        "print(label_dictionary)"
      ],
      "metadata": {
        "id": "Jlzh8v0l8N4x"
      },
      "execution_count": null,
      "outputs": []
    },
    {
      "cell_type": "code",
      "source": [
        "embedding_types = [\n",
        "    WordEmbeddings('glove'),\n",
        "    PooledFlairEmbeddings('news-forward', pooling='min'),\n",
        "    PooledFlairEmbeddings('news-backward', pooling='min'),\n",
        "]\n",
        "embeddings = StackedEmbeddings(embeddings=embedding_types)\n",
        "\n",
        "tagger = SequenceTagger(hidden_size=256, embeddings=embeddings, tag_dictionary=label_dictionary, tag_type=label_type)\n",
        "trainer = ModelTrainer(tagger, corpus)\n",
        "trainer.train('resources/taggers/example-ner', train_with_dev=True, max_epochs=50)"
      ],
      "metadata": {
        "id": "bEhMey0kwJzY"
      },
      "execution_count": null,
      "outputs": []
    },
    {
      "cell_type": "code",
      "source": [
        "import os\n",
        "import shutil\n",
        "\n",
        "model_path = 'resources/taggers/example-ner/final-model.pt'\n",
        "drive_path = '/content/drive/My Drive/models/flair/50-epoch/final-model.pt'\n",
        "drive_dir = os.path.dirname(drive_path)\n",
        "if not os.path.exists(drive_dir):\n",
        "    os.makedirs(drive_dir)\n",
        "shutil.copy(model_path, drive_path)\n"
      ],
      "metadata": {
        "id": "glZcXKtV8cOQ"
      },
      "execution_count": null,
      "outputs": []
    }
  ]
}